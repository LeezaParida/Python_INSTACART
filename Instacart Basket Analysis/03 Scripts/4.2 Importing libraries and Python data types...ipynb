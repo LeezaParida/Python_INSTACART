{
 "cells": [
  {
   "cell_type": "markdown",
   "id": "2cdd12da",
   "metadata": {},
   "source": [
    "# Importing Libraries and Data Types"
   ]
  },
  {
   "cell_type": "code",
   "execution_count": 1,
   "id": "db6116d5",
   "metadata": {},
   "outputs": [],
   "source": [
    "# importing libraries\n",
    "import pandas as pd\n",
    "import numpy as np\n",
    "import os"
   ]
  },
  {
   "cell_type": "code",
   "execution_count": 1,
   "id": "75898687",
   "metadata": {},
   "outputs": [
    {
     "name": "stdout",
     "output_type": "stream",
     "text": [
      "100\n",
      "100\n"
     ]
    },
    {
     "data": {
      "text/plain": [
       "100"
      ]
     },
     "execution_count": 1,
     "metadata": {},
     "output_type": "execute_result"
    }
   ],
   "source": [
    "# Data Types\n",
    "x=50\n",
    "y=30\n",
    "z=20\n",
    "r=x+y+z\n",
    "print(r)\n",
    "r1=x+x\n",
    "print(r1)\n",
    "r2=y+y+z+z\n",
    "r2"
   ]
  },
  {
   "cell_type": "code",
   "execution_count": 5,
   "id": "ad7ef05c",
   "metadata": {},
   "outputs": [
    {
     "name": "stdout",
     "output_type": "stream",
     "text": [
      "3.469703131354209\n",
      "0.28820909517112053\n"
     ]
    }
   ],
   "source": [
    "a=85.32\n",
    "b=24.59\n",
    "print(a/b)\n",
    "print(b/a)"
   ]
  },
  {
   "cell_type": "code",
   "execution_count": 7,
   "id": "0982d0f1",
   "metadata": {},
   "outputs": [
    {
     "name": "stdout",
     "output_type": "stream",
     "text": [
      "brief knowledge\n"
     ]
    }
   ],
   "source": [
    "print('brief'+' knowledge')"
   ]
  },
  {
   "cell_type": "code",
   "execution_count": 8,
   "id": "98fea7a5",
   "metadata": {},
   "outputs": [
    {
     "name": "stdout",
     "output_type": "stream",
     "text": [
      "Welcome to Python tutorial.\n",
      "Let's dive deeper.\n"
     ]
    }
   ],
   "source": [
    "print('Welcome '+'to '+'Python '+'tutorial.')\n",
    "print(\"Let's \"+\"dive \"+\"deeper.\")"
   ]
  },
  {
   "cell_type": "code",
   "execution_count": 9,
   "id": "866599d8",
   "metadata": {},
   "outputs": [
    {
     "name": "stdout",
     "output_type": "stream",
     "text": [
      "Thank you Thank you Thank you Thank you Thank you Thank you Thank you Thank you Thank you Thank you Thank you Thank you Thank you Thank you Thank you Thank you Thank you Thank you Thank you Thank you Thank you Thank you Thank you Thank you Thank you Thank you Thank you Thank you Thank you Thank you Thank you Thank you Thank you Thank you Thank you Thank you Thank you Thank you Thank you Thank you Thank you Thank you Thank you Thank you Thank you Thank you Thank you Thank you Thank you Thank you Thank you Thank you Thank you Thank you Thank you Thank you Thank you Thank you Thank you Thank you Thank you Thank you Thank you Thank you Thank you Thank you Thank you Thank you Thank you Thank you Thank you Thank you Thank you Thank you Thank you Thank you Thank you Thank you Thank you Thank you Thank you Thank you Thank you Thank you Thank you Thank you Thank you Thank you Thank you Thank you Thank you Thank you Thank you Thank you Thank you Thank you Thank you Thank you Thank you Thank you \n"
     ]
    }
   ],
   "source": [
    "print('Thank you '*100)"
   ]
  }
 ],
 "metadata": {
  "kernelspec": {
   "display_name": "Python 3 (ipykernel)",
   "language": "python",
   "name": "python3"
  },
  "language_info": {
   "codemirror_mode": {
    "name": "ipython",
    "version": 3
   },
   "file_extension": ".py",
   "mimetype": "text/x-python",
   "name": "python",
   "nbconvert_exporter": "python",
   "pygments_lexer": "ipython3",
   "version": "3.9.13"
  }
 },
 "nbformat": 4,
 "nbformat_minor": 5
}
